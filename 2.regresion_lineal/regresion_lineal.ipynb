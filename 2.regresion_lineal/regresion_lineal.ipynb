{
 "cells": [
  {
   "cell_type": "markdown",
   "metadata": {},
   "source": [
    "\n",
    "<center> <h1>Regresión lineal</h1> </center>\n"
   ]
  },
  {
   "cell_type": "markdown",
   "metadata": {},
   "source": [
    "## Introducción"
   ]
  },
  {
   "cell_type": "markdown",
   "metadata": {},
   "source": [
    "Desde diferentes campos como el científico, académico o empresarial, a menudo se requiere encontrar la relación entre una variable y otra(s) variable(s). Modelar esta relación entre variables mediante regresión lineal hace posible una interpretación de los datos confiable y con menos complejidad que otros modelos, logrando objetivos como encontrar información valiosa que permite tomar mejores decisiones o realizar nuevos descubrimientos.\n",
    "\n",
    "De una manera formal, la [regresión lineal](https://es.wikipedia.org/wiki/Regresi%C3%B3n_lineal) podría definirse como una técnica o [algoritmo](https://es.wikipedia.org/wiki/Algoritmo) que construye un [modelo lineal](https://es.wikipedia.org/wiki/Modelo_lineal), el cual representa una aproximación de la relación entre una variable dependiente o de respuesta con respecto a otras variables llamadas independientes o explicativas. \n",
    "\n",
    "Hay 3 tipos de regresión lineal, la primera es la Regresión lineal simple, la segunda es Regresión lineal múltiple y la tercera es la Regresión no lineal.\n",
    "\n",
    "La regresión lineal simple realiza un modelamiento de la relación lineal entre dos variables, por ejemplo la variable dependiente $y$ y otra variable independendiente $x$. El modelo de regresión simple puede ser escrito de la siguiente manera:\n",
    "\n",
    "$$ y = \\beta_0 + \\beta_1 x + \\epsilon$$\n",
    "donde:\n",
    "\n",
    "$ y = variable \\ dependiente$\n",
    "\n",
    "$  \\beta_0 = valor \\ de \\ \\ y \\ \\ donde \\ \\ x = 0 \\ (valor \\ desconocido \\ que \\ se \\ obtiene \\ con \\ el \\ modelo )$\n",
    "\n",
    "$  \\beta_1 = pendiente \\ de \\ la \\ recta \\ (valor \\ desconocido \\ que \\ se \\ obtiene \\ con \\ el \\ modelo)$\n",
    "\n",
    "$ x = variable \\ independiente$\n",
    "\n",
    "$ \\epsilon = error $\n",
    "\n",
    "<br>\n",
    "<figure class=\"image\" style=\"width: 400px; margin: auto;\">\n",
    "  <img src=\"https://upload.wikimedia.org/wikipedia/commons/3/3a/Linear_regression.svg\" alt=\"Ejemplo de regresion lineal simple\">\n",
    "  <figcaption><i>Fig.1. Ejemplo de regresión lineal simple <a href=\"https://upload.wikimedia.org/wikipedia/commons/3/3a/Linear_regression.svg\">[2]</a></i></figcaption>\n",
    "</figure>\n",
    "<br>\n",
    "La regresión lineal múltiple en un modelamiento de la relación lineal entre una variable dependiente y más de una independiente. La forma general de escribir la regresión lineal múltiple es así:\n",
    "\n",
    "$$ y = \\beta_0 + \\beta_1 x_1 + ... + \\beta_n x_n + \\epsilon$$\n",
    "donde:\n",
    "\n",
    "$ y = variable \\ dependiente$\n",
    "\n",
    "$  \\beta_0, \\beta_1, \\beta_2, ... , \\beta_n = coeficientes \\ de \\ regresión\n",
    "\\ (valores \\ desconocidos \\ que \\ se \\ obtienen \\ con \\ el \\ modelo)$\n",
    "\n",
    "$ x_1, x_2, ... , x_n = variables \\ independientes \\ del \\ modelo $\n",
    "\n",
    "$ \\epsilon = error $\n",
    "<br>\n",
    "<figure class=\"image\" style=\"width: 400px; margin: auto;\">\n",
    "  <img src=\"https://dlegorreta.files.wordpress.com/2015/09/regression_lineal.png\" alt=\"Ejemplo de regresion lineal multiple\">\n",
    "  <figcaption><i>Fig. 2. Ejemplo de regresión lineal múltiple <a href=\"https://dlegorreta.files.wordpress.com/2015/09/regression_lineal.png\">[3]</a></i></figcaption>\n",
    "</figure>\n",
    "<br>\n",
    "La regresión no lineal es un modelamiento donde se asume que la relación entre la variable dependiente y la(s) variable(s) independiente(s) es no lineal. Un ejemplo de regresión no lineal se puede escribir así :\n",
    "\n",
    "$$ y = \\frac{\\alpha}{1 + e^{\\beta t}} + \\epsilon $$\n",
    "donde:\n",
    "\n",
    "$ y = variable \\ dependiente$\n",
    "\n",
    "$ \\alpha = parámetro \\ del \\ modelo $\n",
    "\n",
    "$ \\beta = parámetro \\ del \\ modelo $\n",
    "\n",
    "$ t = variables \\ independientes \\ del \\ modelo $\n",
    "\n",
    "$ \\epsilon = error $\n",
    "\n",
    "<br>\n",
    "<figure class=\"image\" style=\"width: 400px; margin: auto;\">\n",
    "  <img src=\"https://images3.programmersought.com/745/98/98ec5f84ff0f5a9ad900fe3ea1aae1b1.png\" alt=\"Ejemplo de regresion no lineal\">\n",
    "  <figcaption><i>Fig. 3. Ejemplo de regresión no lineal <a href=\"https://images3.programmersought.com/745/98/98ec5f84ff0f5a9ad900fe3ea1aae1b1.png\">[4]</a></i></figcaption>\n",
    "</figure>\n",
    "<br>\n",
    "\n"
   ]
  },
  {
   "cell_type": "markdown",
   "metadata": {},
   "source": [
    "Antes de intentar aplicar la regresión lineal, debe asegurarse de que los datos ajustarse a un modelo lineal, lo anterior se puede lograr si deben  comprobarse estas hipótesis:\n",
    "\n",
    "Las variables deben medirse a un nivel continuo. Algunas variables continuas son el tiempo, las ventas, el peso y las puntuaciones de las pruebas.  \n",
    "Utilice un diagrama de dispersión para determinar rápidamente si hay una relación lineal entre estas dos variables.\n",
    "Las observaciones deben ser independientes entre sí (es decir, no debe haber ninguna dependencia).\n",
    "Los datos no deberían tener valores atípicos significativos.  \n",
    "Comprobar la homocedasticidad, un concepto estadístico en el que las varianzas de la línea de regresión lineal de mejor ajuste siguen siendo similares a lo largo de toda esa línea.\n",
    "Los residuales (errores) de la línea de regresión de mejor ajuste siguen el patrón de una distribución normal. [[1]](https://www.ibm.com/mx-es/analytics/learn/linear-regression#:~:text=El%20an%C3%A1lisis%20de%20la%20regresi%C3%B3n,variable%20se%20denomina%20variable%20independiente.)"
   ]
  },
  {
   "cell_type": "markdown",
   "metadata": {},
   "source": [
    "## Historia "
   ]
  },
  {
   "cell_type": "markdown",
   "metadata": {},
   "source": [
    "\n",
    "La primera forma de regresión lineal documentada fue el método de los mínimos cuadrados que fue publicada por [Legendre](https://es.wikipedia.org/wiki/Adrien-Marie_Legendre) en 1805 [[5]](https://es.wikipedia.org/wiki/Regresi%C3%B3n_lineal#Regresi%C3%B3n_lineal_simple). Años después, en 1821 [Gauss](https://en.wikipedia.org/wiki/Carl_Friedrich_Gauss) publicó en una parte de su trabajo, la demostración del [teorema de Gauss-Márkov y Markov](https://economipedia.com/definiciones/teorema-gauss-markov.html) en 1900 redescubrió este teorema [[6]](https://link.springer.com/referenceworkentry/10.1007%2F978-0-387-32833-1_159#:~:text=Gauss%2C%20Carl%20Friedrich%20provided%20a,provided%20by%20Graybill%20in%201976.). \n",
    "\n",
    "<br>\n",
    "<figure class=\"image\" style=\"width: 200px; margin: auto;\">\n",
    "  <img src=\"img/gauss.jpg\" alt=\"Carl Friedrich Gauss\">\n",
    "  <figcaption><i>Fig.5. Carl Friedrich Gauss <a href=\"https://upload.wikimedia.org/wikipedia/commons/e/ec/Carl_Friedrich_Gauss_1840_by_Jensen.jpg\">[7]</a></i></figcaption>\n",
    "</figure>\n",
    "\n",
    "El término regresión fue introducido por [Francis Galton](https://es.wikipedia.org/wiki/Francis_Galton) en su libro \"Natural inheritance\" (1889) y fue confirmada por su amigo [Karl Pearson](https://es.wikipedia.org/wiki/Karl_Pearson). Su trabajo se centró en la descripción de los rasgos físicos de los descendientes (variable A) a partir de los de sus padres (variable B). Estudiando la altura de padres e hijos a partir de más de mil registros de grupos familiares, se llegó a la conclusión de que los padres muy altos tenían una tendencia a tener hijos que heredaban parte de esta altura, pero que revelaban también una tendencia a regresar a la media. [Francis Galton](https://es.wikipedia.org/wiki/Francis_Galton) generalizó esta tendencia bajo la \"ley de la regresión universal\": «Cada peculiaridad en un hombre es compartida por sus descendientes, pero en media, en un grado menor.»[[8]](http://diccionario.sensagent.com/ANALISIS%20DE%20LA%20REGRESION/es-es/)\n",
    "<br>\n",
    "<figure class=\"image\" style=\"width: 200px; margin: auto;\">\n",
    "  <img src=\"img/galton.jpg\" alt=\"Francis Galton\">\n",
    "  <figcaption><i>Fig.6. Francis Galton <a href=\"https://upload.wikimedia.org/wikipedia/commons/a/a8/Sir_Francis_Galton%2C_1890s.jpg\">[9]</a></i></figcaption>\n",
    "</figure>"
   ]
  },
  {
   "cell_type": "markdown",
   "metadata": {},
   "source": [
    "## Definiciones para el algoritmo"
   ]
  },
  {
   "cell_type": "markdown",
   "metadata": {},
   "source": [
    "La regresión lineal es una técnica usada  en el campo del aprendizaje de maquina. Desde este campo se clasifica como un algoritmo de [aprendizaje supervisado](https://es.wikipedia.org/wiki/Aprendizaje_supervisado). Los algoritmos de aprendizaje supervisado requieren datos de entrenamiento y el modelo aprende por si mismo usando dichos datos.\n",
    "\n",
    "El algoritmo de regresión lineal, específicamente regresión lineal simple, realiza la tarea de predecir el valor de la variable dependiente $Y$ basado en la variable independiente $X$, por lo cual el algoritmo estima la relación lineal de la relación entre la $X$ (la entrada) y $Y$ (la salida). Un ejemplo aplicado de lo anterior es el siguiente:\n",
    "\n",
    "<br>\n",
    "<figure class=\"image\" style=\"width: 400px; margin: auto;\">\n",
    "  <img src=\"img/linear-regression-plot.jpg\" alt=\"grafica de regresion lineal\">\n",
    "  <figcaption><i>Gráfica de regresión lineal. X representa el salario de un trabajador, Y representa los años de experiencia y la recta en los puntos representa el mejor ajuste obtenido con el algoritmo de regresión lineal</i></figcaption>\n",
    "</figure>\n",
    "<br>\n",
    "\n",
    "Matemáticamente esta relación lineal ente $X$ y $Y$ se describe como:\n",
    "\n",
    "$$ Y = \\beta_0 + \\beta_1 X + \\epsilon $$\n",
    "\n",
    "Donde $\\beta_0$ y $\\beta_1$ son los coeficientes que se obtienen con el algoritmo y $\\epsilon$ representa el error cometido por el algoritmo.\n",
    "\n",
    "De manera general el algoritmo parte de unos datos de entrenamiento conocidos como la tupla (X,y) que se pueden representar de la siguiente forma:\n",
    "\n",
    "$$ (x_1, y_1), (x_2, y_2), ..., (x_n, y_n)$$\n",
    "\n",
    "Con estos datos de entrenamiento de tamaño $n$, el objetivo es estimar los coeficientes $\\beta_0$ y $\\beta_1$ que hagan el mejor ajuste posible al modelo lineal. Es decir que para todo $x_i$, $y_i$ sea aproximadamente igual a $\\beta_0 + \\beta_1 x_i $.\n",
    "\n",
    "El algoritmo recorre los datos de entrenamiento y en esas iteraciones, va actualizando y ajustando los coeficientes $\\hat{\\beta_0}$ y $\\hat{\\beta_1}$ y de está manera obtener la mejor estimación del modelo. Para lograr este objetivo, el modelo estima el valor $y$ que minimice la diferencia entre este $y$ del modelo y el $y_i$ de los datos, esta diferencia se define como función de coste o error que dicho de otra manera, esta función mide que tan bien se va ajustando el modelo a los datos.\n",
    "\n",
    "Para el caso de la regresión lineal, la función de coste más común es el **Error cuadrático medio (ECM)**, que mide el promedio de los errores al cuadrado. Formalmente se escribe como:\n",
    "\n",
    "$$ECM(\\beta_1, \\beta_0) = \\frac{1}{2N} \\sum^{N}_{i=1} \\left( (y_i - (\\beta_1 x_i + \\beta_0) \\right)^2 $$ \n",
    "\n",
    "donde: <br>\n",
    "$N$ = tamaño de los datos <br>\n",
    "$y_i$ = valor $y$ de los datos <br>\n",
    "$\\beta_1 x_i + \\beta_0$ = valor del modelo <br>\n",
    "\n",
    "Si $(\\beta_1 x_i + \\beta_0) = h_\\beta(x_i)$, entonces:\n",
    "\n",
    "$$ECM(\\beta_1, \\beta_0) = \\frac{1}{2N} \\sum^{N}_{i=1} \\left( (y_i - h_\\beta(x_i) \\right)^2 $$ \n",
    "\n",
    "El valor $y_i - (\\beta_1 x_i + \\beta_0)$ es llamado residuo:\n",
    "$$r_i = y_i - (\\beta_1 x_i + \\beta_0)$$\n",
    "\n",
    "Como se mencionaba anteriormente el algoritmo requiere minimizar esta función de coste para lograr estimar el modelo. La minimización de la función de coste se realiza mediante el **Método del gradiente descendente**. De manera general el método del gradiente descendiente emplea el gradiente de la función ECM para elegir los parámetros $\\beta_0$ y $\\beta_1$ que desplazan el modelo a la dirección opuesta al gradiente y de está manera reducir el EMC. El gradiente obtenido de la función ECM es:\n",
    "\n",
    "$$\\nabla f(\\beta_1,\\beta_0) = \\left[ \\begin{matrix} \\frac{\\partial \n",
    "f}{\\partial \\beta_1}\\\\ \\frac{\\partial f}{\\partial\\beta_0}\\end{matrix} \\right] = \\left[ \\begin{matrix} \\frac{1}{N} \\sum -2x_i(y_i - (\\beta_1x_i+\\beta_0) \\\\ \\frac{1}{N} \\sum -2(y_i - (\\beta_1x_i+\\beta_0) \\end{matrix} \\right]$$\n",
    "\n",
    "El desplazamiento que se realiza se basa en la siguiente definición:\n",
    "\n",
    "$$\\beta^{siguiente}_{i} = \\beta_i - \\alpha \\frac{\\partial f}{\\partial\\beta_i} $$\n",
    "\n",
    "$\\alpha$ es un parámetro del modelo que se define como la tasa de aprendizaje, elegir un valor adecuado para este parámetro es crucial para una convergencia adecuada del algoritmo. Entre más pequeño sea $\\alpha$, más preciso será el resultado.\n"
   ]
  },
  {
   "cell_type": "markdown",
   "metadata": {},
   "source": [
    "## Algoritmo"
   ]
  },
  {
   "cell_type": "markdown",
   "metadata": {},
   "source": [
    "Teniendo en cuenta las definiciones anteriores, los pasos del algoritmo son los siguientes:\n",
    "\n",
    "1. Definir la tasa de aprendizaje con algún valor por ejemplo $\\alpha = 0.5$ Establecer $\\beta_0 = 0$ y $\\beta_1 = 0$\n",
    "\n",
    "2. Calcular la derivada parcial de de la función ECM con respecto a $\\beta_0$ $\\left(\\frac{\\partial f}{\\partial\\beta_0}\\right)$ con los valores correspondientes de $x_i, y_i, \\beta_0 y \\beta_1$\n",
    "\n",
    "3. Calcular la derivada parcial de de la función ECM con respecto a $\\beta_1$ $\\left(\\frac{\\partial f}{\\partial\\beta_1}\\right)$ con los valores correspondientes de $x_i, y_i, \\beta_0 y \\beta_1$\n",
    "\n",
    "4. Actualizar los valores de $\\beta_0 y \\beta_1$ mediante la fórmula:\n",
    "$$\\beta^{siguiente}_{i} = \\beta_i - \\alpha \\frac{\\partial f}{\\partial\\beta_i} $$\n",
    "\n",
    "5. Repetir este proceso hasta que la función ECM sea muy pequeña con valores cercanos a cero, idealmente cero. Otro criterio de parada puede ser un número constante de iteraciones."
   ]
  },
  {
   "cell_type": "markdown",
   "metadata": {},
   "source": [
    "## Ejemplo"
   ]
  },
  {
   "cell_type": "markdown",
   "metadata": {},
   "source": [
    "Para este ejemplo se usara el siguiente Dataset [Kaggle - Advertising](https://www.kaggle.com/bumba5341/advertisingcsv) [[10]](https://www.kaggle.com/bumba5341/advertisingcsv)  que corresponde al gasto de publicidad en televisión, en radio, en periódicos y las ventas generadas del producto. Para este conjunto de datos se miraran los datos de la columna TV que corresponden al gasto de publicidad en televisión para un producto, donde se va intentar predecir el número de ventas de un producto (columna Sales) mediante un algoritmo de regresión lineal usando gradiente descendiente."
   ]
  },
  {
   "cell_type": "markdown",
   "metadata": {},
   "source": [
    "Inicialmente obtenemos los datos que se encuentran en la ruta [./data/Advertising.csv](./data/advertising.csv), data set tomado de "
   ]
  },
  {
   "cell_type": "code",
   "execution_count": 287,
   "metadata": {},
   "outputs": [
    {
     "data": {
      "text/html": [
       "<div>\n",
       "<style scoped>\n",
       "    .dataframe tbody tr th:only-of-type {\n",
       "        vertical-align: middle;\n",
       "    }\n",
       "\n",
       "    .dataframe tbody tr th {\n",
       "        vertical-align: top;\n",
       "    }\n",
       "\n",
       "    .dataframe thead th {\n",
       "        text-align: right;\n",
       "    }\n",
       "</style>\n",
       "<table border=\"1\" class=\"dataframe\">\n",
       "  <thead>\n",
       "    <tr style=\"text-align: right;\">\n",
       "      <th></th>\n",
       "      <th>Unnamed: 0</th>\n",
       "      <th>TV</th>\n",
       "      <th>Radio</th>\n",
       "      <th>Newspaper</th>\n",
       "      <th>Sales</th>\n",
       "    </tr>\n",
       "  </thead>\n",
       "  <tbody>\n",
       "    <tr>\n",
       "      <th>0</th>\n",
       "      <td>1</td>\n",
       "      <td>230.1</td>\n",
       "      <td>37.8</td>\n",
       "      <td>69.2</td>\n",
       "      <td>22.1</td>\n",
       "    </tr>\n",
       "    <tr>\n",
       "      <th>1</th>\n",
       "      <td>2</td>\n",
       "      <td>44.5</td>\n",
       "      <td>39.3</td>\n",
       "      <td>45.1</td>\n",
       "      <td>10.4</td>\n",
       "    </tr>\n",
       "    <tr>\n",
       "      <th>2</th>\n",
       "      <td>3</td>\n",
       "      <td>17.2</td>\n",
       "      <td>45.9</td>\n",
       "      <td>69.3</td>\n",
       "      <td>9.3</td>\n",
       "    </tr>\n",
       "    <tr>\n",
       "      <th>3</th>\n",
       "      <td>4</td>\n",
       "      <td>151.5</td>\n",
       "      <td>41.3</td>\n",
       "      <td>58.5</td>\n",
       "      <td>18.5</td>\n",
       "    </tr>\n",
       "    <tr>\n",
       "      <th>4</th>\n",
       "      <td>5</td>\n",
       "      <td>180.8</td>\n",
       "      <td>10.8</td>\n",
       "      <td>58.4</td>\n",
       "      <td>12.9</td>\n",
       "    </tr>\n",
       "  </tbody>\n",
       "</table>\n",
       "</div>"
      ],
      "text/plain": [
       "   Unnamed: 0     TV  Radio  Newspaper  Sales\n",
       "0           1  230.1   37.8       69.2   22.1\n",
       "1           2   44.5   39.3       45.1   10.4\n",
       "2           3   17.2   45.9       69.3    9.3\n",
       "3           4  151.5   41.3       58.5   18.5\n",
       "4           5  180.8   10.8       58.4   12.9"
      ]
     },
     "execution_count": 287,
     "metadata": {},
     "output_type": "execute_result"
    }
   ],
   "source": [
    "import pandas as pd\n",
    "import numpy as np\n",
    "from matplotlib import pyplot as plt\n",
    "\n",
    "advert = pd.read_csv('data/Advertising.csv')\n",
    "advert.head()"
   ]
  },
  {
   "cell_type": "markdown",
   "metadata": {},
   "source": [
    "Ahora extraemos los datos de las columnas correspondientes a las dos variables con las que vamos a trabajar:\n",
    "$$ X = Gasto de publicidad en televisión para un producto$$\n",
    "$$ y = Ventas de un producto$$"
   ]
  },
  {
   "cell_type": "code",
   "execution_count": 288,
   "metadata": {},
   "outputs": [],
   "source": [
    "X = advert.to_numpy()[:,1]\n",
    "Y = advert.to_numpy()[:,4]"
   ]
  },
  {
   "cell_type": "markdown",
   "metadata": {},
   "source": [
    "Ahora vamos a graficar los datos:"
   ]
  },
  {
   "cell_type": "code",
   "execution_count": 289,
   "metadata": {},
   "outputs": [
    {
     "data": {
      "text/plain": [
       "Text(0.5, 1.0, 'Datos Y, X')"
      ]
     },
     "execution_count": 289,
     "metadata": {},
     "output_type": "execute_result"
    },
    {
     "data": {
      "image/png": "[encoded data removed]",
      "text/plain": [
       "<Figure size 432x288 with 1 Axes>"
      ]
     },
     "metadata": {},
     "output_type": "display_data"
    }
   ],
   "source": [
    "plt.style.use('fivethirtyeight')\n",
    "plt.scatter(X, Y, color='black')\n",
    "plt.gca().set_title(\"Datos Y, X\")"
   ]
  },
  {
   "cell_type": "markdown",
   "metadata": {},
   "source": [
    "Ahora se inicializa y ejecuta el algoritmo de regresión lineal de la librería sklearn, para el siguiente modelo lineal:\n",
    "$$ Y = b_0 + X b_1$$"
   ]
  },
  {
   "cell_type": "code",
   "execution_count": 290,
   "metadata": {},
   "outputs": [
    {
     "name": "stdout",
     "output_type": "stream",
     "text": [
      "b_0: 7.032593549127693\n",
      "b_1: [0.04753664]\n"
     ]
    }
   ],
   "source": [
    "from sklearn.linear_model import LinearRegression\n",
    "model = LinearRegression()\n",
    "x = X.reshape((-1, 1))\n",
    "y = Y\n",
    "model.fit(x, y)\n",
    "print('b_0:', model.intercept_)\n",
    "print('b_1:', model.coef_)"
   ]
  },
  {
   "cell_type": "markdown",
   "metadata": {},
   "source": [
    "Ahora vamos a graficar los datos de entrenamiento y la recta obtenida del modelo de regresión lineal"
   ]
  },
  {
   "cell_type": "code",
   "execution_count": 291,
   "metadata": {},
   "outputs": [
    {
     "data": {
      "text/plain": [
       "Text(0.5, 1.0, 'Datos y = X')"
      ]
     },
     "execution_count": 291,
     "metadata": {},
     "output_type": "execute_result"
    },
    {
     "data": {
      "image/png": "[encoded data removed]",
      "text/plain": [
       "<Figure size 432x288 with 1 Axes>"
      ]
     },
     "metadata": {},
     "output_type": "display_data"
    }
   ],
   "source": [
    "plt.style.use('fivethirtyeight')\n",
    "plt.scatter(X, y, color='black')\n",
    "plt.scatter(x, model.predict(x), color='blue')\n",
    "plt.gca().set_title(\"Datos y = X\")"
   ]
  },
  {
   "cell_type": "markdown",
   "metadata": {},
   "source": [
    "Ahora vamos a realizar una predicción para un valor que no existe en los datos de entrenamiento, por ejemplo x = 400."
   ]
  },
  {
   "cell_type": "code",
   "execution_count": 292,
   "metadata": {},
   "outputs": [
    {
     "data": {
      "text/plain": [
       "array([26.04724972])"
      ]
     },
     "execution_count": 292,
     "metadata": {},
     "output_type": "execute_result"
    }
   ],
   "source": [
    "model.predict(np.array([[400]]))"
   ]
  },
  {
   "cell_type": "markdown",
   "metadata": {},
   "source": [
    "Lo anterior se interpreta que la hacer un gasto de $400$ en publicidad en televisión, se podrían obtener unas ventas de $26.05$"
   ]
  },
  {
   "cell_type": "markdown",
   "metadata": {},
   "source": [
    "## Conclusiones"
   ]
  },
  {
   "cell_type": "markdown",
   "metadata": {},
   "source": [
    "La regresión lineal es un método considerablemente antiguo que en la actualidad se usa conjuntamente con las diferentes técnicas de análisis de datos modernas y se ve implementado en lenguajes de programación como Python\n",
    "\n",
    "La vigencia de la regresión lineal en la actualidad se de principalmente por su menor complejidad con respecto a otros modelos o técnicas, resultados con una precisión considerable y su utilidad en el análisis de datos.\n",
    "\n",
    "El conocimiento requerido para el entendimiento de este algoritmo es principalmente en el área de matemáticas, puntualmente conceptos de calculo diferencial, funciones y álgebra lineal. Su implementación a pesar de poderse hacer con lápiz y papel, para grandes volúmenes de datos se requiere el uso de un poder de cálculo como el de un computador y para lo anterior se requiere el dominio de algún lenguaje de programación. \n",
    "\n"
   ]
  },
  {
   "cell_type": "markdown",
   "metadata": {},
   "source": [
    "## Bibliografía"
   ]
  },
  {
   "cell_type": "markdown",
   "metadata": {},
   "source": [
    "[1] Regresión lineal (2021) [Internet], disponible en [https://www.ibm.com/](https://www.ibm.com/mx-es/analytics/learn/linear-regression#:~:text=El%20an%C3%A1lisis%20de%20la%20regresi%C3%B3n,variable%20se%20denomina%20variable%20independiente.)<br>\n",
    "[2] (Fig.2.) gráfico de regresión lineal simple (2020), [Internet], disponible en [Wikipedia](https://upload.wikimedia.org/wikipedia/commons/3/3a/Linear_regression.svg)<br>\n",
    "[3] (Fig.3.) dlegorreta (2021), [Internet], disponible en [dlegorreta - wordpress](https://legorreta.files.wordpress.com/2015/09/regression_lineal.png)<br>\n",
    "[4] (Fig.4.) images3.programmersought.com (2021), [Internet], disponible en [images3.programmersought.com](https://images3.programmersought.com/745/98/98ec5f84ff0f5a9ad900fe3ea1aae1b1.png)<br>\n",
    "[5] Wikipedia (2021), [Internet], disponible en [Wikipedia](https://es.wikipedia.org/wiki/Adrien-Marie_Legendre)<br>\n",
    "[6] (2008) Gauss–Markov Theorem. In: The Concise Encyclopedia of Statistics. Springer, New York, NY. disponible en [link.springer.com/](https://doi.org/10.1007/978-0-387-32833-1_159)<br>\n",
    "[7] (Fig.5.) wikimedia.org (2021), [Internet], disponible en [wikimedia.org](https://upload.wikimedia.org/wikipedia/commons/e/ec/Carl_Friedrich_Gauss_1840_by_Jensen.jpg)<br>\n",
    "[8] diccionario.sensagent.com (2021), [Internet], disponible en [diccionario.sensagent.com](http://diccionario.sensagent.com/ANALISIS%20DE%20LA%20REGRESION/es-es/)<br>\n",
    "[9] (Fig.6.) wikimedia.org (2021), [Internet], disponible en [wikimedia.org](https://upload.wikimedia.org/wikipedia/commons/a/a8/Sir_Francis_Galton%2C_1890s.jpg)<br>\n",
    "[10] Kaggle - Advertising (2021), [Internet], disponible en [kaggle.com](https://www.kaggle.com/bumba5341/advertisingcsv)<br>\n",
    "\n"
   ]
  }
 ],
 "metadata": {
  "kernelspec": {
   "display_name": "Python 3",
   "language": "python",
   "name": "python3"
  },
  "language_info": {
   "codemirror_mode": {
    "name": "ipython",
    "version": 3
   },
   "file_extension": ".py",
   "mimetype": "text/x-python",
   "name": "python",
   "nbconvert_exporter": "python",
   "pygments_lexer": "ipython3",
   "version": "3.8.5"
  },
  "latex_envs": {
   "LaTeX_envs_menu_present": true,
   "autoclose": false,
   "autocomplete": true,
   "bibliofile": "biblio.bib",
   "cite_by": "apalike",
   "current_citInitial": 1,
   "eqLabelWithNumbers": true,
   "eqNumInitial": 1,
   "hotkeys": {
    "equation": "Ctrl-E",
    "itemize": "Ctrl-I"
   },
   "labels_anchors": false,
   "latex_user_defs": false,
   "report_style_numbering": false,
   "user_envs_cfg": false
  }
 },
 "nbformat": 4,
 "nbformat_minor": 4
}
