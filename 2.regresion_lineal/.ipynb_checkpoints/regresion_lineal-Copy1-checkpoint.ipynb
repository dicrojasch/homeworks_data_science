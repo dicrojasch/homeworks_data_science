{
 "cells": [
  {
   "cell_type": "markdown",
   "metadata": {},
   "source": [
    "\n",
    "<center> <h1>Regresión lineal</h1> </center>\n"
   ]
  },
  {
   "cell_type": "markdown",
   "metadata": {
    "heading_collapsed": true
   },
   "source": [
    "## Introducción"
   ]
  },
  {
   "cell_type": "markdown",
   "metadata": {
    "hidden": true
   },
   "source": [
    "Desde diferentes campos como el científico, académico o empresarial, a menudo se requiere encontrar la relación entre una variable y otra(s) variable(s). Modelar esta relación entre variables mediante regresión lineal hace posible una interpretación de los datos confiable y con menos complejidad que otros modelos, logrando objetivos como encontrar información valiosa que permite tomar mejores decisiones o realizar nuevos descubrimientos.\n",
    "\n",
    "De una manera formal, la [regresión lineal](https://es.wikipedia.org/wiki/Regresi%C3%B3n_lineal) podría definirse como una técnica o [algoritmo](https://es.wikipedia.org/wiki/Algoritmo) que construye un [modelo lineal](https://es.wikipedia.org/wiki/Modelo_lineal), el cual representa una aproximación de la relación entre una variable dependiente o de respuesta con respecto a otras variables llamadas independientes o explicativas. \n",
    "\n",
    "Hay 3 tipos de regresión lineal, la primera es la Regresión lineal simple, la segunda es Regresión lineal múltiple y la tercera es la Regresión no lineal.\n",
    "\n",
    "La regresión lineal simple realiza un modelamiento de la relación lineal entre dos variables, por ejemplo la variable dependiente $y$ y otra variable independendiente $x$. El modelo de regresión simple puede ser escrito de la siguiente manera:\n",
    "\n",
    "$$ y = \\beta_0 + \\beta_1 x + \\epsilon$$\n",
    "donde:\n",
    "\n",
    "$ y = variable \\ dependiente$\n",
    "\n",
    "$  \\beta_0 = valor \\ de \\ \\ y \\ \\ donde \\ \\ x = 0 \\ (valor \\ desconocido \\ que \\ se \\ obtiene \\ con \\ el \\ modelo )$\n",
    "\n",
    "$  \\beta_1 = pendiente \\ de \\ la \\ recta \\ (valor \\ desconocido \\ que \\ se \\ obtiene \\ con \\ el \\ modelo)$\n",
    "\n",
    "$ x = variable \\ independiente$\n",
    "\n",
    "$ \\epsilon = error $\n",
    "\n",
    "<br>\n",
    "<figure class=\"image\" style=\"width: 400px; margin: auto;\">\n",
    "  <img src=\"https://upload.wikimedia.org/wikipedia/commons/3/3a/Linear_regression.svg\" alt=\"Ejemplo de regresion lineal simple\">\n",
    "  <figcaption><i>Ejemplo de regresión lineal simple</i></figcaption>\n",
    "</figure>\n",
    "<br>\n",
    "La regresión lineal múltiple en un modelamiento de la relación lineal entre una variable dependiente y más de una independiente. La forma general de escribir la regresión lineal múltiple es así:\n",
    "\n",
    "$$ y = \\beta_0 + \\beta_1 x_1 + ... + \\beta_n x_n + \\epsilon$$\n",
    "donde:\n",
    "\n",
    "$ y = variable \\ dependiente$\n",
    "\n",
    "$  \\beta_0, \\beta_1, \\beta_2, ... , \\beta_n = coeficientes \\ de \\ regresión\n",
    "\\ (valores \\ desconocidos \\ que \\ se \\ obtienen \\ con \\ el \\ modelo)$\n",
    "\n",
    "$ x_1, x_2, ... , x_n = variables \\ independientes \\ del \\ modelo $\n",
    "\n",
    "$ \\epsilon = error $\n",
    "<br>\n",
    "<figure class=\"image\" style=\"width: 400px; margin: auto;\">\n",
    "  <img src=\"https://dlegorreta.files.wordpress.com/2015/09/regression_lineal.png\" alt=\"Ejemplo de regresion lineal multiple\">\n",
    "  <figcaption><i>Ejemplo de regresión lineal múltiple</i></figcaption>\n",
    "</figure>\n",
    "<br>\n",
    "La regresión no lineal es un modelamiento donde se asume que la relación entre la variable dependiente y la(s) variable(s) independiente(s) es no lineal. Un ejemplo de regresión no lineal se puede escribir así :\n",
    "\n",
    "$$ y = \\frac{\\alpha}{1 + e^{\\beta t}} + \\epsilon $$\n",
    "donde:\n",
    "\n",
    "$ y = variable \\ dependiente$\n",
    "\n",
    "$ \\alpha = parámetro \\ del \\ modelo $\n",
    "\n",
    "$ \\beta = parámetro \\ del \\ modelo $\n",
    "\n",
    "$ t = variables \\ independientes \\ del \\ modelo $\n",
    "\n",
    "$ \\epsilon = error $\n",
    "\n",
    "<br>\n",
    "<figure class=\"image\" style=\"width: 400px; margin: auto;\">\n",
    "  <img src=\"https://images3.programmersought.com/745/98/98ec5f84ff0f5a9ad900fe3ea1aae1b1.png\" alt=\"Ejemplo de regresion no lineal\">\n",
    "  <figcaption><i>Ejemplo de regresión no lineal</i></figcaption>\n",
    "</figure>\n",
    "<br>\n",
    "\n"
   ]
  },
  {
   "cell_type": "markdown",
   "metadata": {
    "hidden": true
   },
   "source": [
    "Antes de intentar aplicar la regresión lineal, debe asegurarse de que los datos ajustarse a un modelo lineal, lo anterior se puede lograr si deben  comprobarse estas hipótesis:\n",
    "\n",
    "Las variables deben medirse a un nivel continuo. Algunas variables continuas son el tiempo, las ventas, el peso y las puntuaciones de las pruebas.  \n",
    "Utilice un diagrama de dispersión para determinar rápidamente si hay una relación lineal entre estas dos variables.\n",
    "Las observaciones deben ser independientes entre sí (es decir, no debe haber ninguna dependencia).\n",
    "Los datos no deberían tener valores atípicos significativos.  \n",
    "Comprobar la homocedasticidad, un concepto estadístico en el que las varianzas de la línea de regresión lineal de mejor ajuste siguen siendo similares a lo largo de toda esa línea.\n",
    "Los residuales (errores) de la línea de regresión de mejor ajuste siguen el patrón de una distribución normal. [[5]](https://www.ibm.com/mx-es/analytics/learn/linear-regression#:~:text=El%20an%C3%A1lisis%20de%20la%20regresi%C3%B3n,variable%20se%20denomina%20variable%20independiente.)"
   ]
  },
  {
   "cell_type": "markdown",
   "metadata": {
    "heading_collapsed": true
   },
   "source": [
    "## Historia "
   ]
  },
  {
   "cell_type": "markdown",
   "metadata": {
    "hidden": true
   },
   "source": [
    "\n",
    "La primera forma de regresión lineal documentada fue el método de los mínimos cuadrados que fue publicada por [Legendre](https://es.wikipedia.org/wiki/Adrien-Marie_Legendre) en 1805 [[2]](https://es.wikipedia.org/wiki/Regresi%C3%B3n_lineal#Regresi%C3%B3n_lineal_simple). Años después, en 1821 [Gauss](https://en.wikipedia.org/wiki/Carl_Friedrich_Gauss) publicó en una parte de su trabajo, la demostración del [teorema de Gauss-Márkov y Markov](https://economipedia.com/definiciones/teorema-gauss-markov.html) en 1900 redescubrió este teorema [[3]](https://link.springer.com/referenceworkentry/10.1007%2F978-0-387-32833-1_159#:~:text=Gauss%2C%20Carl%20Friedrich%20provided%20a,provided%20by%20Graybill%20in%201976.). \n",
    "\n",
    "<br>\n",
    "<figure class=\"image\" style=\"width: 200px; margin: auto;\">\n",
    "  <img src=\"img/gauss.jpg\" alt=\"Carl Friedrich Gauss\">\n",
    "  <figcaption><i>Carl Friedrich Gauss</i></figcaption>\n",
    "</figure>\n",
    "\n",
    "El término regresión fue introducido por [Francis Galton](https://es.wikipedia.org/wiki/Francis_Galton) en su libro \"Natural inheritance\" (1889) y fue confirmada por su amigo [Karl Pearson](https://es.wikipedia.org/wiki/Karl_Pearson). Su trabajo se centró en la descripción de los rasgos físicos de los descendientes (variable A) a partir de los de sus padres (variable B). Estudiando la altura de padres e hijos a partir de más de mil registros de grupos familiares, se llegó a la conclusión de que los padres muy altos tenían una tendencia a tener hijos que heredaban parte de esta altura, pero que revelaban también una tendencia a regresar a la media. [Francis Galton](https://es.wikipedia.org/wiki/Francis_Galton) generalizó esta tendencia bajo la \"ley de la regresión universal\": «Cada peculiaridad en un hombre es compartida por sus descendientes, pero en media, en un grado menor.»[[4]](http://diccionario.sensagent.com/ANALISIS%20DE%20LA%20REGRESION/es-es/)\n",
    "<br>\n",
    "<figure class=\"image\" style=\"width: 200px; margin: auto;\">\n",
    "  <img src=\"img/galton.jpg\" alt=\"Francis Galton\">\n",
    "  <figcaption><i>Francis Galton</i></figcaption>\n",
    "</figure>"
   ]
  },
  {
   "cell_type": "markdown",
   "metadata": {},
   "source": [
    "## Definiciones para el algoritmo"
   ]
  },
  {
   "cell_type": "markdown",
   "metadata": {},
   "source": [
    "La regresión lineal es una técnica usada  en el campo del aprendizaje de maquina. Desde este campo se clasifica como un algoritmo de [aprendizaje supervisado](https://es.wikipedia.org/wiki/Aprendizaje_supervisado). Los algoritmos de aprendizaje supervisado requieren datos de entrenamiento y el modelo aprende por si mismo usando dichos datos.\n",
    "\n",
    "El algoritmo de regresión lineal, específicamente regresión lineal simple, realiza la tarea de predecir el valor de la variable dependiente $Y$ basado en la variable independiente $X$, por lo cual el algoritmo estima la relación lineal de la relación entre la $X$ (la entrada) y $Y$ (la salida). Un ejemplo aplicado de lo anterior es el siguiente:\n",
    "\n",
    "<br>\n",
    "<figure class=\"image\" style=\"width: 400px; margin: auto;\">\n",
    "  <img src=\"img/linear-regression-plot.jpg\" alt=\"grafica de regresion lineal\">\n",
    "  <figcaption><i>Gráfica de regresión lineal. X representa el salario de un trabajador, Y representa los años de experiencia y la recta en los puntos representa el mejor ajuste obtenido con el algoritmo de regresión lineal</i></figcaption>\n",
    "</figure>\n",
    "<br>\n",
    "\n",
    "Matemáticamente esta relación lineal ente $X$ y $Y$ se describe como:\n",
    "\n",
    "$$ Y = \\beta_0 + \\beta_1 X + \\epsilon $$\n",
    "\n",
    "Donde $\\beta_0$ y $\\beta_1$ son los coeficientes que se obtienen con el algoritmo y $\\epsilon$ representa el error cometido por el algoritmo.\n",
    "\n",
    "De manera general el algoritmo parte de unos datos de entrenamiento conocidos como la tupla (X,y) que se pueden representar de la siguiente forma:\n",
    "\n",
    "$$ (x_1, y_1), (x_2, y_2), ..., (x_n, y_n)$$\n",
    "\n",
    "Con estos datos de entrenamiento de tamaño $n$, el objetivo es estimar los coeficientes $\\beta_0$ y $\\beta_1$ que hagan el mejor ajuste posible al modelo lineal. Es decir que para todo $x_i$, $y_i$ sea aproximadamente igual a $\\beta_0 + \\beta_1 x_i $.\n",
    "\n",
    "El algoritmo recorre los datos de entrenamiento y en esas iteraciones, va actualizando y ajustando los coeficientes $\\hat{\\beta_0}$ y $\\hat{\\beta_1}$ y de está manera obtener la mejor estimación del modelo. Para lograr este objetivo, el modelo estima el valor $y$ que minimice la diferencia entre este $y$ del modelo y el $y_i$ de los datos, esta diferencia se define como función de coste o error que dicho de otra manera, esta función mide que tan bien se va ajustando el modelo a los datos.\n",
    "\n",
    "Para el caso de la regresión lineal, la función de coste más común es el **Error cuadrático medio (ECM)**, que mide el promedio de los errores al cuadrado. Formalmente se escribe como:\n",
    "\n",
    "$$ECM(\\beta_1, \\beta_0) = \\frac{1}{2N} \\sum^{N}_{i=1} \\left( (y_i - (\\beta_1 x_i + \\beta_0) \\right)^2 $$ \n",
    "\n",
    "donde: <br>\n",
    "$N$ = tamaño de los datos <br>\n",
    "$y_i$ = valor $y$ de los datos <br>\n",
    "$\\beta_1 x_i + \\beta_0$ = valor del modelo <br>\n",
    "\n",
    "Si $(\\beta_1 x_i + \\beta_0) = h_\\beta(x_i)$, entonces:\n",
    "\n",
    "$$ECM(\\beta_1, \\beta_0) = \\frac{1}{2N} \\sum^{N}_{i=1} \\left( (y_i - h_\\beta(x_i) \\right)^2 $$ \n",
    "\n",
    "El valor $y_i - (\\beta_1 x_i + \\beta_0)$ es llamado residuo:\n",
    "$$r_i = y_i - (\\beta_1 x_i + \\beta_0)$$\n",
    "\n",
    "Como se mencionaba anteriormente el algoritmo requiere minimizar esta función de coste para lograr estimar el modelo. La minimización de la función de coste se realiza mediante el **Método del gradiente descendente**. De manera general el método del gradiente descendiente emplea el gradiente de la función ECM para elegir los parámetros $\\beta_0$ y $\\beta_1$ que desplazan el modelo a la dirección opuesta al gradiente y de está manera reducir el EMC. El gradiente obtenido de la función ECM es:\n",
    "\n",
    "$$\\nabla f(\\beta_1,\\beta_0) = \\left[ \\begin{matrix} \\frac{\\partial \n",
    "f}{\\partial \\beta_1}\\\\ \\frac{\\partial f}{\\partial\\beta_0}\\end{matrix} \\right] = \\left[ \\begin{matrix} \\frac{1}{N} \\sum -2x_i(y_i - (\\beta_1x_i+\\beta_0) \\\\ \\frac{1}{N} \\sum -2(y_i - (\\beta_1x_i+\\beta_0) \\end{matrix} \\right]$$\n",
    "\n",
    "El desplazamiento que se realiza se basa en la siguiente definición:\n",
    "\n",
    "$$\\beta^{siguiente}_{i} = \\beta_i - \\alpha \\frac{\\partial f}{\\partial\\beta_i} $$\n",
    "\n",
    "$\\alpha$ es un parámetro del modelo que se define como la tasa de aprendizaje, elegir un valor adecuado para este parámetro es crucial para una convergencia adecuada del algoritmo. Entre más pequeño sea $\\alpha$, más preciso será el resultado.\n"
   ]
  },
  {
   "cell_type": "markdown",
   "metadata": {
    "heading_collapsed": true
   },
   "source": [
    "## Algoritmo"
   ]
  },
  {
   "cell_type": "markdown",
   "metadata": {
    "hidden": true
   },
   "source": [
    "Teniendo en cuenta las definiciones anteriores, los pasos del algoritmo son los siguientes:\n",
    "\n",
    "1. Definir la tasa de aprendizaje con algún valor por ejemplo $\\alpha = 0.5$ Establecer $\\beta_0 = 0$ y $\\beta_1 = 0$\n",
    "\n",
    "2. Calcular la derivada parcial de de la función ECM con respecto a $\\beta_0$ $\\left(\\frac{\\partial f}{\\partial\\beta_0}\\right)$ con los valores correspondientes de $x_i, y_i, \\beta_0 y \\beta_1$\n",
    "\n",
    "3. Calcular la derivada parcial de de la función ECM con respecto a $\\beta_1$ $\\left(\\frac{\\partial f}{\\partial\\beta_1}\\right)$ con los valores correspondientes de $x_i, y_i, \\beta_0 y \\beta_1$\n",
    "\n",
    "4. Actualizar los valores de $\\beta_0 y \\beta_1$ mediante la fórmula:\n",
    "$$\\beta^{siguiente}_{i} = \\beta_i - \\alpha \\frac{\\partial f}{\\partial\\beta_i} $$\n",
    "\n",
    "5. Repetir este proceso hasta que la función ECM sea muy pequeña con valores cercanos a cero, idealmente cero. Otro criterio de parada puede ser un número constante de iteraciones."
   ]
  },
  {
   "cell_type": "markdown",
   "metadata": {},
   "source": [
    "## Ejemplo"
   ]
  },
  {
   "cell_type": "markdown",
   "metadata": {},
   "source": [
    "Para este ejemplo se usara el siguiente Dataset [Kaggle - Advertising](https://www.kaggle.com/bumba5341/advertisingcsv) que corresponde al gasto de publicidad en televisión, en radio, en periódicos y las ventas generadas del producto. Para este conjunto de datos se miraran los datos de la columna TV que corresponden al gasto de publicidad en televisión para un producto, donde se va intentar predecir el número de ventas de un producto (columna Sales) mediante un algoritmo de regresión lineal usando gradiente descendiente."
   ]
  },
  {
   "cell_type": "markdown",
   "metadata": {},
   "source": [
    "Inicialmente obtenemos los datos que se encuentran en la ruta [./data/Advertising.csv](./data/advertising.csv), data set tomado de "
   ]
  },
  {
   "cell_type": "code",
   "execution_count": 254,
   "metadata": {},
   "outputs": [
    {
     "data": {
      "text/html": [
       "<div>\n",
       "<style scoped>\n",
       "    .dataframe tbody tr th:only-of-type {\n",
       "        vertical-align: middle;\n",
       "    }\n",
       "\n",
       "    .dataframe tbody tr th {\n",
       "        vertical-align: top;\n",
       "    }\n",
       "\n",
       "    .dataframe thead th {\n",
       "        text-align: right;\n",
       "    }\n",
       "</style>\n",
       "<table border=\"1\" class=\"dataframe\">\n",
       "  <thead>\n",
       "    <tr style=\"text-align: right;\">\n",
       "      <th></th>\n",
       "      <th>Serial No.</th>\n",
       "      <th>GRE Score</th>\n",
       "      <th>TOEFL Score</th>\n",
       "      <th>University Rating</th>\n",
       "      <th>SOP</th>\n",
       "      <th>LOR</th>\n",
       "      <th>CGPA</th>\n",
       "      <th>Research</th>\n",
       "      <th>Chance of Admit</th>\n",
       "    </tr>\n",
       "  </thead>\n",
       "  <tbody>\n",
       "    <tr>\n",
       "      <th>0</th>\n",
       "      <td>1</td>\n",
       "      <td>337</td>\n",
       "      <td>118</td>\n",
       "      <td>4</td>\n",
       "      <td>4.5</td>\n",
       "      <td>4.5</td>\n",
       "      <td>9.65</td>\n",
       "      <td>1</td>\n",
       "      <td>0.92</td>\n",
       "    </tr>\n",
       "    <tr>\n",
       "      <th>1</th>\n",
       "      <td>2</td>\n",
       "      <td>324</td>\n",
       "      <td>107</td>\n",
       "      <td>4</td>\n",
       "      <td>4.0</td>\n",
       "      <td>4.5</td>\n",
       "      <td>8.87</td>\n",
       "      <td>1</td>\n",
       "      <td>0.76</td>\n",
       "    </tr>\n",
       "    <tr>\n",
       "      <th>2</th>\n",
       "      <td>3</td>\n",
       "      <td>316</td>\n",
       "      <td>104</td>\n",
       "      <td>3</td>\n",
       "      <td>3.0</td>\n",
       "      <td>3.5</td>\n",
       "      <td>8.00</td>\n",
       "      <td>1</td>\n",
       "      <td>0.72</td>\n",
       "    </tr>\n",
       "    <tr>\n",
       "      <th>3</th>\n",
       "      <td>4</td>\n",
       "      <td>322</td>\n",
       "      <td>110</td>\n",
       "      <td>3</td>\n",
       "      <td>3.5</td>\n",
       "      <td>2.5</td>\n",
       "      <td>8.67</td>\n",
       "      <td>1</td>\n",
       "      <td>0.80</td>\n",
       "    </tr>\n",
       "    <tr>\n",
       "      <th>4</th>\n",
       "      <td>5</td>\n",
       "      <td>314</td>\n",
       "      <td>103</td>\n",
       "      <td>2</td>\n",
       "      <td>2.0</td>\n",
       "      <td>3.0</td>\n",
       "      <td>8.21</td>\n",
       "      <td>0</td>\n",
       "      <td>0.65</td>\n",
       "    </tr>\n",
       "  </tbody>\n",
       "</table>\n",
       "</div>"
      ],
      "text/plain": [
       "   Serial No.  GRE Score  TOEFL Score  University Rating  SOP  LOR   CGPA  \\\n",
       "0           1        337          118                  4  4.5   4.5  9.65   \n",
       "1           2        324          107                  4  4.0   4.5  8.87   \n",
       "2           3        316          104                  3  3.0   3.5  8.00   \n",
       "3           4        322          110                  3  3.5   2.5  8.67   \n",
       "4           5        314          103                  2  2.0   3.0  8.21   \n",
       "\n",
       "   Research  Chance of Admit   \n",
       "0         1              0.92  \n",
       "1         1              0.76  \n",
       "2         1              0.72  \n",
       "3         1              0.80  \n",
       "4         0              0.65  "
      ]
     },
     "execution_count": 254,
     "metadata": {},
     "output_type": "execute_result"
    }
   ],
   "source": [
    "import pandas as pd\n",
    "import numpy as np\n",
    "from matplotlib import pyplot as plt\n",
    "\n",
    "advert = pd.read_csv('data/Admission_Predict.csv')\n",
    "advert.head()"
   ]
  },
  {
   "cell_type": "markdown",
   "metadata": {},
   "source": [
    "Ahora extraemos los datos de las columnas correspondientes a las dos variables con las que vamos a trabajar:\n",
    "$$ X = Gasto de publicidad en televisión para un producto$$\n",
    "$$ y = Ventas de un producto$$"
   ]
  },
  {
   "cell_type": "code",
   "execution_count": 255,
   "metadata": {},
   "outputs": [],
   "source": [
    "X = advert.to_numpy()[:,1]\n",
    "y = advert.to_numpy()[:,2]"
   ]
  },
  {
   "cell_type": "markdown",
   "metadata": {},
   "source": [
    "Ahora vamos a graficar los datos:"
   ]
  },
  {
   "cell_type": "code",
   "execution_count": 256,
   "metadata": {},
   "outputs": [
    {
     "data": {
      "text/plain": [
       "Text(0.5, 1.0, 'Datos y, X')"
      ]
     },
     "execution_count": 256,
     "metadata": {},
     "output_type": "execute_result"
    },
    {
     "data": {
      "image/png": "[encoded data removed]",
      "text/plain": [
       "<Figure size 432x288 with 1 Axes>"
      ]
     },
     "metadata": {},
     "output_type": "display_data"
    }
   ],
   "source": [
    "plt.style.use('fivethirtyeight')\n",
    "\n",
    "plt.scatter(X, y, color='black')\n",
    "plt.gca().set_title(\"Datos y, X\")"
   ]
  },
  {
   "cell_type": "markdown",
   "metadata": {},
   "source": [
    "Ahora se define la implementación de la clase que tendrá la lógica del algoritmo de regresión lineal usando el gradiente descendente, código tomado de [Kaggle - Gradiente descendente](https://www.kaggle.com/residentmario/gradient-descent-with-linear-regression)"
   ]
  },
  {
   "cell_type": "code",
   "execution_count": 262,
   "metadata": {},
   "outputs": [
    {
     "name": "stdout",
     "output_type": "stream",
     "text": [
      "coefficient of determination: 0.6988572151781709\n",
      "intercept: -32.69128930998261\n",
      "slope: [0.44222845]\n"
     ]
    }
   ],
   "source": [
    "# class GradientDescentLinearRegression:\n",
    "#     h = lambda x, theta_0, theta_1: theta_0 + theta_1 * x\n",
    "#     def __init__(self, learning_rate=0.001, iterations=1000):\n",
    "#         self.learning_rate, self.iterations = learning_rate, iterations\n",
    "    \n",
    "#     def fit(self, X, y):\n",
    "#         b_0 = 1\n",
    "#         b_1 = 1\n",
    "#         n = X.shape[0]\n",
    "#         print(n)\n",
    "#         for _ in range(self.iterations):\n",
    "#             f = np.subtract(self.h(X, b_0, b_1, y))\n",
    "#             b_0_gradient = -1 * f.sum() / n\n",
    "#             b_1_gradient = -1 * X.dot(f.T).sum() / n\n",
    "#             b_0 = b_0 - (self.learning_rate * b_0_gradient)\n",
    "#             b_1 = b_1 - (self.learning_rate * b_1_gradient)\n",
    "#             #print(self.cost(X, y, b_0, b_1))\n",
    "#         self.b_1, self.b_0 = b_1, b_0\n",
    "        \n",
    "#     def cost(self, X, y, b_0, b_1):\n",
    "#         n = X.shape[0]\n",
    "#         error = np.power(np.subtract(self.h(X, b_0, b_1), y), 2)\n",
    "#         return (1/(2*n)* error.sum())\n",
    "        \n",
    "#     def predict(self, X):\n",
    "#         return self.b_1*X + self.b_0\n",
    "from sklearn.linear_model import LinearRegression\n",
    "model = LinearRegression()\n",
    "x = X.reshape((-1, 1))\n",
    "model.fit(x, y)\n",
    "r_sq = model.score(x, y)\n",
    "print('coefficient of determination:', r_sq)\n",
    "print('intercept:', model.intercept_)\n",
    "print('slope:', model.coef_)"
   ]
  },
  {
   "cell_type": "markdown",
   "metadata": {},
   "source": [
    "Ahora de va crear una instancia de la clase anterior y se va ejecutar el algoritmo:"
   ]
  },
  {
   "cell_type": "code",
   "execution_count": null,
   "metadata": {},
   "outputs": [],
   "source": [
    "gdlr = GradientDescentLinearRegression()\n",
    "gdlr.fit(X, y) \n"
   ]
  },
  {
   "cell_type": "code",
   "execution_count": 264,
   "metadata": {},
   "outputs": [
    {
     "data": {
      "text/plain": [
       "Text(0.5, 1.0, 'Datos y = X')"
      ]
     },
     "execution_count": 264,
     "metadata": {},
     "output_type": "execute_result"
    },
    {
     "data": {
      "image/png": "[encoded data removed]",
      "text/plain": [
       "<Figure size 432x288 with 1 Axes>"
      ]
     },
     "metadata": {},
     "output_type": "display_data"
    }
   ],
   "source": [
    "\n",
    "plt.style.use('fivethirtyeight')\n",
    "plt.scatter(X, y, color='black')\n",
    "plt.scatter(x, model.predict(x), color='blue')\n",
    "plt.gca().set_title(\"Datos y = X\")"
   ]
  },
  {
   "cell_type": "code",
   "execution_count": null,
   "metadata": {},
   "outputs": [],
   "source": []
  },
  {
   "cell_type": "code",
   "execution_count": null,
   "metadata": {},
   "outputs": [],
   "source": []
  }
 ],
 "metadata": {
  "kernelspec": {
   "display_name": "Python 3",
   "language": "python",
   "name": "python3"
  },
  "language_info": {
   "codemirror_mode": {
    "name": "ipython",
    "version": 3
   },
   "file_extension": ".py",
   "mimetype": "text/x-python",
   "name": "python",
   "nbconvert_exporter": "python",
   "pygments_lexer": "ipython3",
   "version": "3.8.5"
  },
  "latex_envs": {
   "LaTeX_envs_menu_present": true,
   "autoclose": false,
   "autocomplete": true,
   "bibliofile": "biblio.bib",
   "cite_by": "apalike",
   "current_citInitial": 1,
   "eqLabelWithNumbers": true,
   "eqNumInitial": 1,
   "hotkeys": {
    "equation": "Ctrl-E",
    "itemize": "Ctrl-I"
   },
   "labels_anchors": false,
   "latex_user_defs": false,
   "report_style_numbering": false,
   "user_envs_cfg": false
  }
 },
 "nbformat": 4,
 "nbformat_minor": 4
}
