{
 "cells": [
  {
   "cell_type": "markdown",
   "metadata": {},
   "source": [
    "\n",
    "<center> <h1>Regresión lineal</h1> </center>\n"
   ]
  },
  {
   "cell_type": "markdown",
   "metadata": {},
   "source": [
    "## Introducción\n",
    "\n",
    "Desde diferentes campos como el cientifico, academico o empresarial, a menudo se requiere encontrar la relación entre una variable y otra(s) variable(s). Modelar esta relación entre variables mediante regresión lineal hace posible una interpretación de los datos confiable y con menos complejidad que otros modelos, logrando objetivos como encontrar información valiosa que permite tomar mejores decisiones o realizar nuevos descubrimientos. \n",
    "\n",
    "De una manera formal, la [regresión lineal](https://es.wikipedia.org/wiki/Regresi%C3%B3n_lineal) podría definirse como una técnica o [algoritmo](https://es.wikipedia.org/wiki/Algoritmo) que contruye un [modelo lineal](https://es.wikipedia.org/wiki/Modelo_lineal), el cual representa una aproximación de la relación entre una variable dependiente o de respuesta con respecto a otras variables llamadas independientes o explicativas. \n",
    "\n",
    "Hay 3 tipos de regresión lineal, la primera es la Regresión lineal simple, la segunda es Regresión lineal multiple y la tercera es la Regresión no lineal.\n",
    "\n",
    "La regresión lineal simple realiza un modelamiento de la relación lineal entre dos variables, por ejemplo la variable dependiente $y$ y otra variable independendiente $x$. El modelo de regresión simple puede ser escrito de la siguiente manera:\n",
    "\n",
    "$$ y = \\beta_0 + \\beta_1 x + \\epsilon$$\n",
    "donde:\n",
    "\n",
    "$ y = variable \\ dependiente$\n",
    "\n",
    "$  \\beta_0 = valor \\ de \\ \\ y \\ \\ donde \\ \\ x = 0 \\ (valor \\ desconocido \\ que \\ se \\ obtiene \\ con \\ el \\ modelo )$\n",
    "\n",
    "$  \\beta_1 = pendiente \\ de \\ la \\ recta \\ (valor \\ desconocido \\ que \\ se \\ obtiene \\ con \\ el \\ modelo)$\n",
    "\n",
    "$ x = variable \\ independiente$\n",
    "\n",
    "$ \\epsilon = error $\n",
    "\n",
    "La regresión lineal multiple en un modelamiento de la relación lineal entre una variable dependiente y más de una independiente. La forma general de escribir la regresión lineal multiple es así:\n",
    "\n",
    "$$ y = \\beta_0 + \\beta_1 x_1 + ... + \\beta_n x_n + \\epsilon$$\n",
    "donde:\n",
    "\n",
    "$ y = variable \\ dependiente$\n",
    "\n",
    "$  \\beta_0, \\beta_1, \\beta_2, ... , \\beta_n = coeficientes \\ de \\ regresión\n",
    "\\ (valores \\ desconocidos \\ que \\ se \\ obtienen \\ con \\ el \\ modelo)$\n",
    "\n",
    "$ x_1, x_2, ... , x_n = variables \\ independientes \\ del \\ modelo $\n",
    "\n",
    "$ \\epsilon = error $\n",
    "\n",
    "\n",
    "La regresión no lineal es un modelamiento donde se asume que la relacion entre la variable dependiente y la(s) variable(s) independiente(s) es no lineal. Un ejemplo de regresión no lineal se puede escribir así :\n",
    "\n",
    "$$ y = \\frac{\\alpha}{1 + e^{\\beta t}} + \\epsilon $$\n",
    "donde:\n",
    "\n",
    "$ y = variable \\ dependiente$\n",
    "\n",
    "$ \\alpha = parámetro \\ del \\ modelo $\n",
    "\n",
    "$ \\beta = parámetro \\ del \\ modelo $\n",
    "\n",
    "$ t = variables \\ independientes \\ del \\ modelo $\n",
    "\n",
    "$ \\epsilon = error $\n",
    "\n",
    "\n",
    "\n",
    "\n",
    "\n",
    " \n"
   ]
  },
  {
   "cell_type": "markdown",
   "metadata": {},
   "source": [
    "Antes de intentar aplicar la regresión lineal, debe asegurarse de que los datos ajustarse a un modelo lineal, lo anterior se puede lograr si deben  comprobarse estas hipótesis:\n",
    "\n",
    "Las variables deben medirse a un nivel continuo. Algunas variables continuas son el tiempo, las ventas, el peso y las puntuaciones de las pruebas.  \n",
    "Utilice un diagrama de dispersión para determinar rápidamente si hay una relación lineal entre estas dos variables.\n",
    "Las observaciones deben ser independientes entre sí (es decir, no debe haber ninguna dependencia).\n",
    "Los datos no deberían tener valores atípicos significativos.  \n",
    "Comprobar la homocedasticidad, un concepto estadístico en el que las varianzas de la línea de regresión lineal de mejor ajuste siguen siendo similares a lo largo de toda esa línea.\n",
    "Los residuales (errores) de la línea de regresión de mejor ajuste siguen el patrón de una distribución normal. [[5]](https://www.ibm.com/mx-es/analytics/learn/linear-regression#:~:text=El%20an%C3%A1lisis%20de%20la%20regresi%C3%B3n,variable%20se%20denomina%20variable%20independiente.)"
   ]
  },
  {
   "cell_type": "markdown",
   "metadata": {},
   "source": [
    "## Historia \n",
    "\n",
    "La primera forma de regresión lineal documentada fue el método de los mínimos cuadrados que fue publicada por [Legendre](https://es.wikipedia.org/wiki/Adrien-Marie_Legendre) en 1805 [[2]](https://es.wikipedia.org/wiki/Regresi%C3%B3n_lineal#Regresi%C3%B3n_lineal_simple). Años después, en 1821 [Gauss](https://en.wikipedia.org/wiki/Carl_Friedrich_Gauss) publicó en una parte de su trabajo, la demostración del [teorema de Gauss-Márkov y Markov](https://economipedia.com/definiciones/teorema-gauss-markov.html) en 1900 redescubrió este teorema [[3]](https://link.springer.com/referenceworkentry/10.1007%2F978-0-387-32833-1_159#:~:text=Gauss%2C%20Carl%20Friedrich%20provided%20a,provided%20by%20Graybill%20in%201976.). \n",
    "\n",
    "<br>\n",
    "<figure class=\"image\" style=\"width: 200px; margin: auto;\">\n",
    "  <img src=\"img/gauss.jpg\" alt=\"Carl Friedrich Gauss\">\n",
    "  <figcaption>Carl Friedrich Gauss</figcaption>\n",
    "  <img src=\"img/gauss.jpg\" alt=\"Carl Friedrich Gauss\">\n",
    "  <figcaption>Carl Friedrich Gauss</figcaption>\n",
    "</figure>\n",
    "\n",
    "El término regresión fue introducido por [Francis Galton](https://es.wikipedia.org/wiki/Francis_Galton) en su libro Natural inheritance (1889) y fue confirmada por su amigo [Karl Pearson](https://es.wikipedia.org/wiki/Karl_Pearson). Su trabajo se centró en la descripción de los rasgos físicos de los descendientes (variable A) a partir de los de sus padres (variable B). Estudiando la altura de padres e hijos a partir de más de mil registros de grupos familiares, se llegó a la conclusión de que los padres muy altos tenían una tendencia a tener hijos que heredaban parte de esta altura, pero que revelaban también una tendencia a regresar a la media. [Francis Galton](https://es.wikipedia.org/wiki/Francis_Galton) generalizó esta tendencia bajo la \"ley de la regresión universal\": «Cada peculiaridad en un hombre es compartida por sus descendientes, pero en media, en un grado menor.»[[4]](http://diccionario.sensagent.com/ANALISIS%20DE%20LA%20REGRESION/es-es/)"
   ]
  },
  {
   "cell_type": "code",
   "execution_count": null,
   "metadata": {},
   "outputs": [],
   "source": []
  },
  {
   "cell_type": "code",
   "execution_count": null,
   "metadata": {},
   "outputs": [],
   "source": []
  }
 ],
 "metadata": {
  "kernelspec": {
   "display_name": "Python 3",
   "language": "python",
   "name": "python3"
  },
  "language_info": {
   "codemirror_mode": {
    "name": "ipython",
    "version": 3
   },
   "file_extension": ".py",
   "mimetype": "text/x-python",
   "name": "python",
   "nbconvert_exporter": "python",
   "pygments_lexer": "ipython3",
   "version": "3.8.5"
  },
  "latex_envs": {
   "LaTeX_envs_menu_present": true,
   "autoclose": false,
   "autocomplete": true,
   "bibliofile": "biblio.bib",
   "cite_by": "apalike",
   "current_citInitial": 1,
   "eqLabelWithNumbers": true,
   "eqNumInitial": 1,
   "hotkeys": {
    "equation": "Ctrl-E",
    "itemize": "Ctrl-I"
   },
   "labels_anchors": false,
   "latex_user_defs": false,
   "report_style_numbering": false,
   "user_envs_cfg": false
  }
 },
 "nbformat": 4,
 "nbformat_minor": 4
}
